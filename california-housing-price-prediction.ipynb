{
 "cells": [
  {
   "cell_type": "code",
   "execution_count": 3,
   "id": "a398a876-e6c6-4292-89aa-91ace3c16b9a",
   "metadata": {},
   "outputs": [],
   "source": [
    "import numpy as np\n",
    "import pandas as pd\n",
    "import matplotlib.pyplot as plt\n",
    "import seaborn as sns"
   ]
  },
  {
   "cell_type": "code",
   "execution_count": 11,
   "id": "88162fd9-4f3a-4af8-a929-fb72488e41e3",
   "metadata": {},
   "outputs": [],
   "source": [
    "from sklearn.datasets import fetch_california_housing\n",
    "from sklearn.model_selection import train_test_split\n",
    "from sklearn.preprocessing import StandardScaler\n",
    "from sklearn.linear_model import LinearRegression\n",
    "from sklearn.metrics import mean_absolute_error, mean_squared_error, r2_score\n",
    "from scipy import stats"
   ]
  },
  {
   "cell_type": "code",
   "execution_count": 7,
   "id": "ea198c1f-5b1c-40c2-89bf-0e4a4a29cc83",
   "metadata": {},
   "outputs": [],
   "source": [
    "housing = fetch_california_housing()"
   ]
  },
  {
   "cell_type": "code",
   "execution_count": null,
   "id": "f291f2db-b9e2-45b5-b2d4-0474c98dd6ca",
   "metadata": {},
   "outputs": [],
   "source": [
    "housing"
   ]
  },
  {
   "cell_type": "code",
   "execution_count": 27,
   "id": "e467722b-a257-4fee-88df-dc77b342547d",
   "metadata": {},
   "outputs": [],
   "source": [
    "X = pd.DataFrame(housing.data, columns=housing.feature_names)"
   ]
  },
  {
   "cell_type": "code",
   "execution_count": null,
   "id": "b9ca20c0-4968-412a-9a38-be6751a252cd",
   "metadata": {},
   "outputs": [],
   "source": [
    "X"
   ]
  },
  {
   "cell_type": "code",
   "execution_count": null,
   "id": "217fb6dd-ac72-4711-b92b-e09c93c6f76a",
   "metadata": {},
   "outputs": [],
   "source": [
    "X.info()"
   ]
  },
  {
   "cell_type": "code",
   "execution_count": 133,
   "id": "9d953e5c-9dae-4cf5-a39d-6ddf257cd1e8",
   "metadata": {},
   "outputs": [],
   "source": [
    "y = pd.Series(housing.target, name = 'MedHouseVal')"
   ]
  },
  {
   "cell_type": "code",
   "execution_count": null,
   "id": "9c7e6a41-58b1-4fba-8b16-40cb697b5168",
   "metadata": {
    "scrolled": true
   },
   "outputs": [],
   "source": [
    "y"
   ]
  },
  {
   "cell_type": "code",
   "execution_count": 137,
   "id": "90e44a70-b5ba-4f4e-8a85-67a86b0975ef",
   "metadata": {},
   "outputs": [],
   "source": [
    "df = pd.concat([X,y], axis = 1)"
   ]
  },
  {
   "cell_type": "code",
   "execution_count": null,
   "id": "ef92bf45-4084-4d86-906e-22a1eff7085c",
   "metadata": {
    "scrolled": true
   },
   "outputs": [],
   "source": [
    "df"
   ]
  },
  {
   "cell_type": "code",
   "execution_count": null,
   "id": "295d1e21-d82d-46cf-bc01-8ab5527fc4a2",
   "metadata": {},
   "outputs": [],
   "source": [
    "df.info()"
   ]
  },
  {
   "cell_type": "code",
   "execution_count": null,
   "id": "7c126db0-ef80-4db1-8ac1-19a423a657fa",
   "metadata": {},
   "outputs": [],
   "source": [
    "df.describe()"
   ]
  },
  {
   "cell_type": "code",
   "execution_count": null,
   "id": "dfb689f1-dca4-4137-b439-ae8a640cf0e8",
   "metadata": {},
   "outputs": [],
   "source": [
    "df.corr()"
   ]
  },
  {
   "cell_type": "code",
   "execution_count": 190,
   "id": "a5e79e10-4e2a-4ff1-ba69-170ffbf42d41",
   "metadata": {},
   "outputs": [],
   "source": [
    "def outlier_remove(df,columns):\n",
    "    for i in columns:\n",
    "        z_score = np.absolute(stats.zscore(df[i]))\n",
    "        print(z_score)\n",
    "        df = df[z_score<3]\n",
    "        return df"
   ]
  },
  {
   "cell_type": "code",
   "execution_count": null,
   "id": "7b7e67b2-40e9-423d-906a-7acfa92916b2",
   "metadata": {},
   "outputs": [],
   "source": [
    "df = outlier_remove(df, df.columns)"
   ]
  },
  {
   "cell_type": "code",
   "execution_count": null,
   "id": "b1bc9beb-7576-447c-84b0-998decdc2d90",
   "metadata": {
    "scrolled": true
   },
   "outputs": [],
   "source": [
    "df"
   ]
  },
  {
   "cell_type": "code",
   "execution_count": 206,
   "id": "af85302e-670c-4fc6-a1b5-e4d6af6f1154",
   "metadata": {},
   "outputs": [],
   "source": [
    "X = df.drop(\"MedHouseVal\", axis = 1)"
   ]
  },
  {
   "cell_type": "code",
   "execution_count": null,
   "id": "5ec41594-7ae1-4930-9d4c-4f2c7d8323f9",
   "metadata": {},
   "outputs": [],
   "source": [
    "X"
   ]
  },
  {
   "cell_type": "code",
   "execution_count": 221,
   "id": "f9336b34-c2fc-48b8-9f4f-6c1765443b15",
   "metadata": {},
   "outputs": [],
   "source": [
    "y = df['MedHouseVal']"
   ]
  },
  {
   "cell_type": "code",
   "execution_count": 223,
   "id": "f818e94d-7cac-4271-a3c4-fc4e00655db8",
   "metadata": {},
   "outputs": [],
   "source": [
    "X_train, X_test, y_train, y_test = train_test_split(X,y,test_size=0.2, random_state = 42)"
   ]
  },
  {
   "cell_type": "code",
   "execution_count": null,
   "id": "447552b4-0a7b-4a0a-9427-e4feabc8e04a",
   "metadata": {
    "scrolled": true
   },
   "outputs": [],
   "source": [
    "X_train"
   ]
  },
  {
   "cell_type": "code",
   "execution_count": 94,
   "id": "95512914-6853-4446-a833-45ef9d5f3866",
   "metadata": {},
   "outputs": [],
   "source": [
    "sc = StandardScaler()"
   ]
  },
  {
   "cell_type": "code",
   "execution_count": 122,
   "id": "fa267755-e0fb-4af5-a81d-07e2bc48081d",
   "metadata": {},
   "outputs": [],
   "source": [
    "X_train = sc.fit_transform(X_train)"
   ]
  },
  {
   "cell_type": "code",
   "execution_count": 124,
   "id": "434de219-ee7c-4e37-9b8b-bace1a5a5058",
   "metadata": {},
   "outputs": [],
   "source": [
    "from sklearn.linear_model import LinearRegression"
   ]
  },
  {
   "cell_type": "code",
   "execution_count": 126,
   "id": "9db8f6c1-9304-415c-9628-29b26e5dc29b",
   "metadata": {},
   "outputs": [],
   "source": [
    "lr = LinearRegression()"
   ]
  },
  {
   "cell_type": "code",
   "execution_count": null,
   "id": "2c0eb6dc-9e7c-4318-83f8-9bd94a6a387c",
   "metadata": {},
   "outputs": [],
   "source": [
    "lr.fit(X_train,y_train)"
   ]
  },
  {
   "cell_type": "code",
   "execution_count": 130,
   "id": "53dbb8d8-dd76-466a-baff-95925a12f86e",
   "metadata": {},
   "outputs": [],
   "source": [
    "y_pred = lr.predict(X_test)"
   ]
  },
  {
   "cell_type": "code",
   "execution_count": null,
   "id": "644d60b9-1630-44ed-9060-9b9161f77c46",
   "metadata": {},
   "outputs": [],
   "source": [
    "y_pred"
   ]
  },
  {
   "cell_type": "code",
   "execution_count": null,
   "id": "80671d6c-4776-4a1a-96fb-c367e74295d7",
   "metadata": {},
   "outputs": [],
   "source": []
  }
 ],
 "metadata": {
  "kernelspec": {
   "display_name": "Python 3 (ipykernel)",
   "language": "python",
   "name": "python3"
  },
  "language_info": {
   "codemirror_mode": {
    "name": "ipython",
    "version": 3
   },
   "file_extension": ".py",
   "mimetype": "text/x-python",
   "name": "python",
   "nbconvert_exporter": "python",
   "pygments_lexer": "ipython3",
   "version": "3.12.4"
  }
 },
 "nbformat": 4,
 "nbformat_minor": 5
}
